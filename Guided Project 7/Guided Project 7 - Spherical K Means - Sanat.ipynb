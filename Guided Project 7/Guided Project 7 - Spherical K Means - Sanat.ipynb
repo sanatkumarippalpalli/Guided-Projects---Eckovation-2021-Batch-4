{
 "cells": [
  {
   "cell_type": "markdown",
   "metadata": {},
   "source": [
    "# Spherical K-Means: Pattern Discovery in Textures\n",
    "\n",
    "The classical k-means method of clustering minimizes the sum of squared distances between cluster centres and cluster members. The intuition is that the radial distance from the\n",
    "Cluster- Centre should be similar for all elements of that cluster. The spherical k-means algorithm, however, is equivalent to the k-means algorithm with cosine similarity, a popular method for clustering high-dimensional data. The idea is to set the centre of each cluster such that it makes the angle between components both uniform and minimal.\n",
    "\n",
    "__Question:__\n",
    "\n",
    "Generate a dummy dataset using Scikit-Learn having high dimensionality (number of features >10) and total 4 classes. For this dataset, first implement K-Means clustering and then use the clusters for classification purpose. Now using the same dataset, implement spherical clustering and then check accuracy for classification. Notice the change in accuracy. You may also plot the obtained clusters from both the methods using t-SNE plots or by projecting data into two dimensions using PCA."
   ]
  },
  {
   "cell_type": "code",
   "execution_count": 1,
   "metadata": {},
   "outputs": [],
   "source": [
    "#Import sklearn daatasets, model selection, neural network, numpy, matplotlib\n",
    "from sklearn.datasets import fetch_lfw_people\n",
    "from sklearn.model_selection import train_test_split\n",
    "from sklearn.metrics import classification_report\n",
    "from sklearn.decomposition import PCA\n",
    "from sklearn.neural_network import MLPClassifier\n",
    "import numpy as np\n",
    "import matplotlib.pyplot as plt\n",
    "from sklearn.model_selection import GridSearchCV\n",
    "from sklearn.metrics import confusion_matrix\n",
    "from sklearn.decomposition import PCA as RandomizedPCA\n",
    "from sklearn.svm import SVC\n",
    "import pandas as pd\n",
    "from sklearn.datasets import make_blobs\n",
    "from sklearn.cluster import KMeans\n",
    "from sklearn.metrics import accuracy_score,f1_score,plot_confusion_matrix"
   ]
  },
  {
   "cell_type": "code",
   "execution_count": 2,
   "metadata": {},
   "outputs": [
    {
     "data": {
      "text/html": [
       "<div>\n",
       "<style scoped>\n",
       "    .dataframe tbody tr th:only-of-type {\n",
       "        vertical-align: middle;\n",
       "    }\n",
       "\n",
       "    .dataframe tbody tr th {\n",
       "        vertical-align: top;\n",
       "    }\n",
       "\n",
       "    .dataframe thead th {\n",
       "        text-align: right;\n",
       "    }\n",
       "</style>\n",
       "<table border=\"1\" class=\"dataframe\">\n",
       "  <thead>\n",
       "    <tr style=\"text-align: right;\">\n",
       "      <th></th>\n",
       "      <th>x</th>\n",
       "      <th>y</th>\n",
       "      <th>label</th>\n",
       "    </tr>\n",
       "  </thead>\n",
       "  <tbody>\n",
       "    <tr>\n",
       "      <th>0</th>\n",
       "      <td>-8.679523</td>\n",
       "      <td>-9.964645</td>\n",
       "      <td>1</td>\n",
       "    </tr>\n",
       "    <tr>\n",
       "      <th>1</th>\n",
       "      <td>2.752587</td>\n",
       "      <td>-6.004241</td>\n",
       "      <td>3</td>\n",
       "    </tr>\n",
       "    <tr>\n",
       "      <th>2</th>\n",
       "      <td>3.470801</td>\n",
       "      <td>-4.817432</td>\n",
       "      <td>3</td>\n",
       "    </tr>\n",
       "    <tr>\n",
       "      <th>3</th>\n",
       "      <td>4.387689</td>\n",
       "      <td>-5.888163</td>\n",
       "      <td>3</td>\n",
       "    </tr>\n",
       "    <tr>\n",
       "      <th>4</th>\n",
       "      <td>3.252530</td>\n",
       "      <td>-5.687885</td>\n",
       "      <td>3</td>\n",
       "    </tr>\n",
       "    <tr>\n",
       "      <th>...</th>\n",
       "      <td>...</td>\n",
       "      <td>...</td>\n",
       "      <td>...</td>\n",
       "    </tr>\n",
       "    <tr>\n",
       "      <th>995</th>\n",
       "      <td>-6.200652</td>\n",
       "      <td>5.231251</td>\n",
       "      <td>2</td>\n",
       "    </tr>\n",
       "    <tr>\n",
       "      <th>996</th>\n",
       "      <td>-7.747632</td>\n",
       "      <td>-10.028214</td>\n",
       "      <td>1</td>\n",
       "    </tr>\n",
       "    <tr>\n",
       "      <th>997</th>\n",
       "      <td>4.477079</td>\n",
       "      <td>-6.380839</td>\n",
       "      <td>3</td>\n",
       "    </tr>\n",
       "    <tr>\n",
       "      <th>998</th>\n",
       "      <td>0.376961</td>\n",
       "      <td>3.859705</td>\n",
       "      <td>0</td>\n",
       "    </tr>\n",
       "    <tr>\n",
       "      <th>999</th>\n",
       "      <td>2.870523</td>\n",
       "      <td>-6.196027</td>\n",
       "      <td>3</td>\n",
       "    </tr>\n",
       "  </tbody>\n",
       "</table>\n",
       "<p>1000 rows × 3 columns</p>\n",
       "</div>"
      ],
      "text/plain": [
       "            x          y  label\n",
       "0   -8.679523  -9.964645      1\n",
       "1    2.752587  -6.004241      3\n",
       "2    3.470801  -4.817432      3\n",
       "3    4.387689  -5.888163      3\n",
       "4    3.252530  -5.687885      3\n",
       "..        ...        ...    ...\n",
       "995 -6.200652   5.231251      2\n",
       "996 -7.747632 -10.028214      1\n",
       "997  4.477079  -6.380839      3\n",
       "998  0.376961   3.859705      0\n",
       "999  2.870523  -6.196027      3\n",
       "\n",
       "[1000 rows x 3 columns]"
      ]
     },
     "execution_count": 2,
     "metadata": {},
     "output_type": "execute_result"
    }
   ],
   "source": [
    "# Preparing/Loading Dataset\n",
    "X, y = make_blobs(n_samples=1000, centers=4, n_features=15,random_state=0,cluster_std=0.60)\n",
    "df = pd.DataFrame(dict(x=X[:,0],y=X[:,1],label = y))\n",
    "df"
   ]
  },
  {
   "cell_type": "code",
   "execution_count": 3,
   "metadata": {},
   "outputs": [
    {
     "data": {
      "text/plain": [
       "(1000, 15)"
      ]
     },
     "execution_count": 3,
     "metadata": {},
     "output_type": "execute_result"
    }
   ],
   "source": [
    "X.shape"
   ]
  },
  {
   "cell_type": "code",
   "execution_count": 4,
   "metadata": {},
   "outputs": [
    {
     "data": {
      "text/plain": [
       "array([1, 3, 3, 3, 3, 1, 3, 2, 1, 1, 0, 2, 1, 0, 0, 0, 1, 1, 0, 0, 2, 3,\n",
       "       2, 2, 0, 3, 3, 2, 3, 1, 2, 3, 0, 0, 3, 1, 3, 3, 1, 3, 1, 3, 1, 2,\n",
       "       0, 2, 0, 1, 0, 0, 3, 1, 1, 0, 0, 1, 2, 0, 2, 2, 1, 2, 2, 0, 0, 0,\n",
       "       2, 3, 2, 2, 0, 3, 2, 2, 1, 2, 3, 2, 3, 1, 0, 1, 3, 3, 0, 1, 3, 0,\n",
       "       0, 2, 3, 0, 3, 2, 3, 0, 1, 1, 0, 3, 2, 2, 1, 1, 0, 0, 0, 2, 1, 2,\n",
       "       1, 0, 2, 1, 0, 2, 3, 3, 0, 2, 1, 0, 1, 1, 0, 2, 2, 0, 2, 1, 1, 1,\n",
       "       0, 2, 3, 2, 1, 0, 2, 3, 3, 0, 2, 3, 0, 0, 2, 2, 1, 0, 2, 3, 1, 3,\n",
       "       2, 1, 0, 2, 0, 0, 0, 0, 2, 0, 0, 0, 1, 1, 2, 1, 1, 1, 1, 1, 1, 2,\n",
       "       0, 2, 0, 2, 1, 2, 2, 1, 0, 1, 0, 0, 2, 1, 3, 0, 3, 1, 1, 3, 0, 1,\n",
       "       0, 0, 0, 0, 1, 3, 0, 1, 1, 2, 2, 1, 2, 2, 1, 0, 0, 1, 2, 0, 1, 2,\n",
       "       2, 0, 3, 2, 3, 0, 3, 2, 0, 0, 1, 1, 3, 3, 2, 1, 3, 1, 3, 1, 1, 3,\n",
       "       2, 3, 3, 2, 3, 3, 2, 0, 3, 0, 1, 2, 3, 1, 2, 3, 3, 1, 0, 3, 3, 3,\n",
       "       0, 1, 0, 0, 0, 0, 1, 1, 1, 1, 0, 2, 0, 3, 1, 1, 1, 0, 1, 3, 3, 0,\n",
       "       0, 0, 3, 3, 2, 2, 3, 3, 1, 1, 3, 1, 2, 2, 0, 1, 1, 2, 3, 0, 2, 1,\n",
       "       3, 2, 3, 2, 0, 2, 3, 2, 2, 1, 0, 2, 3, 0, 0, 2, 2, 0, 1, 1, 0, 0,\n",
       "       0, 3, 3, 0, 3, 2, 3, 3, 1, 2, 2, 0, 3, 1, 0, 3, 1, 2, 0, 1, 3, 3,\n",
       "       3, 2, 0, 1, 0, 1, 1, 0, 1, 0, 3, 1, 2, 0, 2, 0, 2, 0, 2, 3, 3, 3,\n",
       "       3, 0, 0, 2, 3, 3, 2, 3, 3, 2, 2, 0, 1, 0, 0, 0, 0, 1, 0, 1, 3, 0,\n",
       "       1, 1, 1, 0, 3, 0, 2, 3, 1, 3, 3, 2, 3, 1, 1, 1, 0, 2, 2, 3, 1, 0,\n",
       "       2, 3, 1, 3, 1, 0, 1, 3, 2, 1, 2, 3, 1, 2, 0, 3, 1, 3, 1, 3, 1, 3,\n",
       "       3, 1, 1, 3, 3, 2, 0, 0, 0, 3, 0, 3, 1, 3, 3, 2, 1, 0, 2, 1, 3, 0,\n",
       "       1, 2, 2, 1, 0, 2, 2, 3, 3, 3, 3, 1, 1, 0, 2, 3, 2, 2, 1, 3, 1, 2,\n",
       "       2, 0, 2, 2, 3, 3, 3, 2, 2, 0, 3, 3, 0, 1, 0, 2, 3, 1, 2, 3, 1, 3,\n",
       "       2, 2, 1, 2, 3, 1, 0, 2, 3, 0, 1, 0, 3, 0, 0, 3, 3, 0, 3, 1, 3, 2,\n",
       "       0, 1, 0, 3, 1, 1, 1, 0, 2, 3, 3, 0, 1, 2, 3, 1, 3, 2, 2, 3, 2, 2,\n",
       "       0, 0, 0, 0, 0, 1, 3, 0, 0, 1, 0, 0, 2, 2, 3, 0, 1, 2, 2, 3, 2, 0,\n",
       "       0, 2, 0, 3, 2, 0, 0, 1, 2, 3, 2, 1, 3, 0, 1, 3, 1, 2, 3, 0, 1, 0,\n",
       "       3, 2, 2, 3, 2, 1, 3, 0, 3, 2, 2, 1, 1, 0, 1, 3, 1, 3, 2, 2, 3, 3,\n",
       "       1, 3, 2, 2, 3, 2, 0, 0, 3, 2, 1, 3, 2, 2, 2, 0, 3, 2, 0, 0, 1, 2,\n",
       "       2, 0, 2, 3, 0, 2, 0, 0, 1, 3, 2, 2, 1, 3, 1, 2, 0, 1, 3, 3, 3, 2,\n",
       "       3, 1, 3, 0, 1, 2, 3, 1, 3, 3, 2, 3, 2, 3, 1, 2, 2, 2, 0, 1, 1, 0,\n",
       "       1, 0, 2, 0, 3, 0, 2, 0, 2, 2, 0, 3, 1, 1, 2, 0, 0, 1, 3, 2, 2, 1,\n",
       "       2, 2, 2, 3, 0, 3, 1, 2, 0, 2, 1, 0, 3, 2, 0, 0, 0, 2, 3, 1, 0, 1,\n",
       "       1, 0, 0, 1, 1, 2, 1, 0, 2, 2, 3, 1, 2, 1, 1, 0, 2, 2, 2, 2, 1, 0,\n",
       "       3, 3, 1, 0, 3, 0, 3, 2, 0, 3, 1, 2, 3, 1, 2, 0, 3, 0, 2, 3, 0, 0,\n",
       "       1, 2, 3, 2, 2, 3, 1, 1, 3, 3, 2, 0, 1, 3, 2, 3, 0, 1, 1, 1, 2, 2,\n",
       "       0, 0, 0, 0, 1, 1, 2, 2, 3, 0, 3, 1, 0, 2, 3, 1, 0, 0, 3, 3, 1, 1,\n",
       "       3, 3, 0, 1, 3, 1, 3, 0, 3, 1, 1, 0, 2, 3, 1, 1, 0, 0, 3, 1, 0, 0,\n",
       "       1, 2, 2, 3, 2, 2, 2, 2, 2, 2, 0, 0, 2, 1, 2, 3, 2, 1, 1, 2, 2, 1,\n",
       "       1, 0, 1, 1, 3, 3, 0, 3, 2, 1, 3, 3, 2, 3, 1, 1, 0, 3, 1, 1, 0, 2,\n",
       "       3, 1, 0, 0, 0, 0, 1, 2, 2, 0, 3, 2, 0, 2, 2, 1, 1, 2, 2, 2, 1, 0,\n",
       "       3, 1, 2, 2, 3, 0, 0, 0, 2, 3, 3, 0, 3, 1, 2, 2, 3, 3, 0, 2, 3, 3,\n",
       "       3, 1, 2, 0, 3, 0, 3, 1, 2, 1, 3, 2, 3, 1, 1, 2, 2, 3, 1, 1, 1, 1,\n",
       "       0, 3, 1, 2, 1, 1, 1, 1, 2, 3, 0, 1, 1, 0, 1, 3, 0, 2, 2, 3, 2, 0,\n",
       "       1, 0, 1, 0, 0, 0, 0, 3, 0, 3, 0, 1, 3, 2, 3, 3, 1, 2, 3, 3, 1, 1,\n",
       "       1, 3, 3, 2, 3, 2, 1, 3, 0, 3])"
      ]
     },
     "execution_count": 4,
     "metadata": {},
     "output_type": "execute_result"
    }
   ],
   "source": [
    "y"
   ]
  },
  {
   "cell_type": "code",
   "execution_count": 5,
   "metadata": {},
   "outputs": [
    {
     "data": {
      "image/png": "[encoded data removed]",
      "text/plain": [
       "<Figure size 560x400 with 1 Axes>"
      ]
     },
     "metadata": {
      "needs_background": "light"
     },
     "output_type": "display_data"
    }
   ],
   "source": [
    "plt.figure(figsize=(7,5),dpi=80)\n",
    "plt.scatter(df.x,df.y,c=df.label,cmap='rainbow')\n",
    "plt.title(\"Original Dataset\")\n",
    "plt.show()"
   ]
  },
  {
   "cell_type": "code",
   "execution_count": 6,
   "metadata": {},
   "outputs": [],
   "source": [
    "#Applying Kmeans classifier\n",
    "kmeans = KMeans(n_clusters=4,init = 'k-means++',   max_iter = 100, n_init = 10, random_state = 0) "
   ]
  },
  {
   "cell_type": "code",
   "execution_count": 7,
   "metadata": {},
   "outputs": [
    {
     "name": "stdout",
     "output_type": "stream",
     "text": [
      "[[ 3.44361833 -5.79736372 -7.42166112 -3.72356921 -2.80201977  1.43344251\n",
      "  -1.18667018  9.83663306 -7.96419017 -5.84115639 -6.78614716  3.05510517\n",
      "  -4.95359905 -0.66264678 -5.14581615]\n",
      " [ 0.86154214  4.32999873  2.12187316  0.83350584 -1.50189875  2.87003529\n",
      "  -1.22399669  7.77477494  9.2459541  -2.32011847  5.85360684  0.5192355\n",
      "   1.33359186  8.51233262 -8.59835793]\n",
      " [-8.25410402 -9.6136771   6.59082183  5.57948739  7.38400342  9.5931288\n",
      "   6.05097638 -0.78176196  5.58443099 -7.62229252  2.75823784 -7.09990491\n",
      "   8.90400025  0.42898107 -1.70385359]\n",
      " [-4.71171758  5.41285798 -0.93977647  1.37209453 -9.64372832  2.38097096\n",
      "   2.26615189  2.28926138  8.86396188  3.68029507 -2.81374589 -1.27678502\n",
      "   3.94125859 -8.79294275  3.35258122]]\n"
     ]
    },
    {
     "data": {
      "text/plain": [
       "<matplotlib.legend.Legend at 0x2a240163ca0>"
      ]
     },
     "execution_count": 7,
     "metadata": {},
     "output_type": "execute_result"
    },
    {
     "data": {
      "image/png": "[encoded data removed]",
      "text/plain": [
       "<Figure size 432x288 with 1 Axes>"
      ]
     },
     "metadata": {
      "needs_background": "light"
     },
     "output_type": "display_data"
    }
   ],
   "source": [
    "\n",
    "#Predicting the cluster for our data\n",
    "y_kmeans = kmeans.fit_predict(X)\n",
    "print(kmeans.cluster_centers_)\n",
    "#Visualising the clusters\n",
    "X = np.array(X)\n",
    "plt.scatter(X[y_kmeans == 0, 0], X[y_kmeans == 0, 1], s = 100, c = 'red', label = 'Iris-s')\n",
    "plt.scatter(X[y_kmeans == 1, 0], X[y_kmeans == 1, 1], s = 100, c = 'blue', label = 'Iris-v')\n",
    "plt.scatter(X[y_kmeans == 2, 0], X[y_kmeans == 2, 1], s = 100, c = 'green', label = 'Iris-va')\n",
    "plt.scatter(X[y_kmeans == 3, 0], X[y_kmeans == 3, 1], s = 100, c = 'orange', label = 'Iris-vb')\n",
    "\n",
    "#Plotting the centroids of the clusters\n",
    "plt.scatter(kmeans.cluster_centers_[:, 0], kmeans.cluster_centers_[:,1], s = 100, c = 'yellow', label = 'Centroids')\n",
    "\n",
    "plt.legend()"
   ]
  },
  {
   "cell_type": "code",
   "execution_count": 8,
   "metadata": {},
   "outputs": [
    {
     "name": "stdout",
     "output_type": "stream",
     "text": [
      "              precision    recall  f1-score   support\n",
      "\n",
      "           0       0.00      0.00      0.00     250.0\n",
      "           1       0.00      0.00      0.00     250.0\n",
      "           2       0.00      0.00      0.00     250.0\n",
      "           3       0.00      0.00      0.00     250.0\n",
      "\n",
      "    accuracy                           0.00    1000.0\n",
      "   macro avg       0.00      0.00      0.00    1000.0\n",
      "weighted avg       0.00      0.00      0.00    1000.0\n",
      "\n"
     ]
    }
   ],
   "source": [
    "print(classification_report(y,y_kmeans))"
   ]
  },
  {
   "cell_type": "code",
   "execution_count": 18,
   "metadata": {},
   "outputs": [],
   "source": [
    "k = 4"
   ]
  },
  {
   "cell_type": "code",
   "execution_count": 19,
   "metadata": {},
   "outputs": [],
   "source": [
    "def similarity(vec1, vec2):\n",
    "    vec1 = np.ravel(vec1)\n",
    "    vec1 = vec1/np.linalg.norm(vec1)\n",
    "    \n",
    "    vec2 = np.ravel(vec2)\n",
    "    vec2 = vec2/np.linalg.norm(vec2)\n",
    "    \n",
    "    angle = np.dot(vec1, vec2)\n",
    "    return angle# Fit training dataset"
   ]
  },
  {
   "cell_type": "code",
   "execution_count": 20,
   "metadata": {},
   "outputs": [],
   "source": [
    "def init_centroids(K, data_arr, label_arr):\n",
    "    mean_cent = []\n",
    "    size_cent = []\n",
    "    cluster_cent = [[] for i in range(K)]\n",
    "    \n",
    "    for i in range(len(data_arr)):\n",
    "        for k in range(K):\n",
    "            if label_arr[i]==k:\n",
    "                data_pt = np.ravel(data_arr[i,:])/np.linalg.norm(np.ravel(data_arr[i,:]))\n",
    "                cluster_cent[k].append(data_pt)\n",
    "    for k in range(K):\n",
    "        cluster_mat = np.matrix(cluster_cent[k])\n",
    "        pointNum = cluster_mat.shape[0]\n",
    "        mean_k = np.mean(cluster_mat, axis=0)\n",
    "        mean_k = np.ravel(mean_k)/np.linalg.norm(np.ravel(mean_k))\n",
    "        mean_cent.append(mean_k)\n",
    "        size_cent.append(pointNum)\n",
    "    return mean_cent, size_cent"
   ]
  },
  {
   "cell_type": "code",
   "execution_count": 21,
   "metadata": {},
   "outputs": [],
   "source": [
    "def label_update(prev_mean, data_arr, label_arr):\n",
    "    for i in range(len(data_arr)):\n",
    "        sim_pt = []\n",
    "        for k in range(K):\n",
    "            sim = similarity(data_arr[i], prev_mean[k])\n",
    "            sim_pt.append(sim)\n",
    "        sim_arr = np.array(sim_pt)\n",
    "        new_label = np.argmax(sim_arr)\n",
    "        label_arr[i] = new_label\n",
    "    return label_arr"
   ]
  },
  {
   "cell_type": "code",
   "execution_count": 22,
   "metadata": {},
   "outputs": [],
   "source": [
    "def update_centroids(K, prev_mean, prev_size, data_arr, label_arr):\n",
    "    cluster_pts = [[] for k in range(K)]\n",
    "    \n",
    "    for i in range(data_arr.shape[0]):\n",
    "        for k in range(K):\n",
    "            if label_arr[i]==k:\n",
    "                data_pt = np.ravel(data_arr[i,:])/np.linalg.norm(np.ravel(data_arr[i,:]))\n",
    "                cluster_pts[k].append(data_pt)\n",
    "    for k in range(K):\n",
    "        print(len(cluster_pts[k]))\n",
    "        if len(cluster_pts[k])!=0:\n",
    "            cluster_mat = np.matrix(cluster_pts[k])\n",
    "            pointNum = cluster_mat.shape[0]\n",
    "            mean_k = np.mean(cluster_mat, axis=0)\n",
    "            mean_k = np.ravel(mean_k)/np.linalg.norm(np.ravel(mean_k))\n",
    "            prev_mean[k] = mean_k\n",
    "            prev_size[k] = pointNum\n",
    "        new_mean = prev_mean\n",
    "        new_size = prev_size\n",
    "    return new_mean, new_size"
   ]
  },
  {
   "cell_type": "code",
   "execution_count": 23,
   "metadata": {},
   "outputs": [],
   "source": [
    "def SphericalKMeans(data_arr, label_arr, maxIter):\n",
    "    prev_mean, prev_size = init_centroids(k, data_arr, label_arr)\n",
    "    print(prev_size)\n",
    "    for iter in range(maxIter):\n",
    "        new_label = label_update(prev_mean, data_arr, label_arr)\n",
    "        new_mean, new_size = update_centroids(k, prev_mean, prev_size, data_arr, label_arr)\n",
    "        label_arr = new_label\n",
    "        prev_mean = new_mean\n",
    "        prev_size = new_size\n",
    "        print(f\"Iteration: {iter} is completed!\")\n",
    "    return new_mean, new_size,label_arr"
   ]
  },
  {
   "cell_type": "code",
   "execution_count": 24,
   "metadata": {},
   "outputs": [
    {
     "name": "stdout",
     "output_type": "stream",
     "text": [
      "[250, 250, 250, 250]\n",
      "250\n",
      "250\n",
      "250\n",
      "250\n",
      "Iteration: 0 is completed!\n",
      "250\n",
      "250\n",
      "250\n",
      "250\n",
      "Iteration: 1 is completed!\n",
      "250\n",
      "250\n",
      "250\n",
      "250\n",
      "Iteration: 2 is completed!\n",
      "250\n",
      "250\n",
      "250\n",
      "250\n",
      "Iteration: 3 is completed!\n",
      "250\n",
      "250\n",
      "250\n",
      "250\n",
      "Iteration: 4 is completed!\n",
      "250\n",
      "250\n",
      "250\n",
      "250\n",
      "Iteration: 5 is completed!\n",
      "250\n",
      "250\n",
      "250\n",
      "250\n",
      "Iteration: 6 is completed!\n",
      "250\n",
      "250\n",
      "250\n",
      "250\n",
      "Iteration: 7 is completed!\n",
      "250\n",
      "250\n",
      "250\n",
      "250\n",
      "Iteration: 8 is completed!\n",
      "250\n",
      "250\n",
      "250\n",
      "250\n",
      "Iteration: 9 is completed!\n",
      "250\n",
      "250\n",
      "250\n",
      "250\n",
      "Iteration: 10 is completed!\n",
      "250\n",
      "250\n",
      "250\n",
      "250\n",
      "Iteration: 11 is completed!\n",
      "250\n",
      "250\n",
      "250\n",
      "250\n",
      "Iteration: 12 is completed!\n",
      "250\n",
      "250\n",
      "250\n",
      "250\n",
      "Iteration: 13 is completed!\n",
      "250\n",
      "250\n",
      "250\n",
      "250\n",
      "Iteration: 14 is completed!\n",
      "250\n",
      "250\n",
      "250\n",
      "250\n",
      "Iteration: 15 is completed!\n",
      "250\n",
      "250\n",
      "250\n",
      "250\n",
      "Iteration: 16 is completed!\n",
      "250\n",
      "250\n",
      "250\n",
      "250\n",
      "Iteration: 17 is completed!\n",
      "250\n",
      "250\n",
      "250\n",
      "250\n",
      "Iteration: 18 is completed!\n",
      "250\n",
      "250\n",
      "250\n",
      "250\n",
      "Iteration: 19 is completed!\n",
      "250\n",
      "250\n",
      "250\n",
      "250\n",
      "Iteration: 20 is completed!\n",
      "250\n",
      "250\n",
      "250\n",
      "250\n",
      "Iteration: 21 is completed!\n",
      "250\n",
      "250\n",
      "250\n",
      "250\n",
      "Iteration: 22 is completed!\n",
      "250\n",
      "250\n",
      "250\n",
      "250\n",
      "Iteration: 23 is completed!\n",
      "250\n",
      "250\n",
      "250\n",
      "250\n",
      "Iteration: 24 is completed!\n",
      "250\n",
      "250\n",
      "250\n",
      "250\n",
      "Iteration: 25 is completed!\n",
      "250\n",
      "250\n",
      "250\n",
      "250\n",
      "Iteration: 26 is completed!\n",
      "250\n",
      "250\n",
      "250\n",
      "250\n",
      "Iteration: 27 is completed!\n",
      "250\n",
      "250\n",
      "250\n",
      "250\n",
      "Iteration: 28 is completed!\n",
      "250\n",
      "250\n",
      "250\n",
      "250\n",
      "Iteration: 29 is completed!\n"
     ]
    }
   ],
   "source": [
    "mean_cent, size_cent,label_arr = SphericalKMeans(X, y, 30)"
   ]
  },
  {
   "cell_type": "code",
   "execution_count": 25,
   "metadata": {},
   "outputs": [
    {
     "name": "stdout",
     "output_type": "stream",
     "text": [
      "(4, 15)\n",
      "[0.25 0.25 0.25 0.25]\n"
     ]
    }
   ],
   "source": [
    "mean_cent = np.array(mean_cent)\n",
    "print(mean_cent.shape)\n",
    "print(size_cent/np.sum(size_cent))"
   ]
  },
  {
   "cell_type": "code",
   "execution_count": 26,
   "metadata": {},
   "outputs": [
    {
     "data": {
      "image/png": "[encoded data removed]",
      "text/plain": [
       "<Figure size 432x288 with 1 Axes>"
      ]
     },
     "metadata": {
      "needs_background": "light"
     },
     "output_type": "display_data"
    }
   ],
   "source": [
    "from sklearn.cluster import SpectralClustering\n",
    "import warnings\n",
    "warnings.simplefilter(\"ignore\")\n",
    "\n",
    "model = SpectralClustering(n_clusters=4, affinity='nearest_neighbors',\n",
    "                           assign_labels='kmeans')\n",
    "labels = model.fit_predict(X)\n",
    "plt.scatter(X[:, 0], X[:, 1], c=labels,s=50, cmap='viridis');"
   ]
  },
  {
   "cell_type": "code",
   "execution_count": 27,
   "metadata": {},
   "outputs": [
    {
     "data": {
      "text/plain": [
       "array([3, 0, 0, 0, 0, 3, 0, 2, 3, 3, 1, 2, 3, 1, 1, 1, 3, 3, 1, 1, 2, 0,\n",
       "       2, 2, 1, 0, 0, 2, 0, 3, 2, 0, 1, 1, 0, 3, 0, 0, 3, 0, 3, 0, 3, 2,\n",
       "       1, 2, 1, 3, 1, 1, 0, 3, 3, 1, 1, 3, 2, 1, 2, 2, 3, 2, 2, 1, 1, 1,\n",
       "       2, 0, 2, 2, 1, 0, 2, 2, 3, 2, 0, 2, 0, 3, 1, 3, 0, 0, 1, 3, 0, 1,\n",
       "       1, 2, 0, 1, 0, 2, 0, 1, 3, 3, 1, 0, 2, 2, 3, 3, 1, 1, 1, 2, 3, 2,\n",
       "       3, 1, 2, 3, 1, 2, 0, 0, 1, 2, 3, 1, 3, 3, 1, 2, 2, 1, 2, 3, 3, 3,\n",
       "       1, 2, 0, 2, 3, 1, 2, 0, 0, 1, 2, 0, 1, 1, 2, 2, 3, 1, 2, 0, 3, 0,\n",
       "       2, 3, 1, 2, 1, 1, 1, 1, 2, 1, 1, 1, 3, 3, 2, 3, 3, 3, 3, 3, 3, 2,\n",
       "       1, 2, 1, 2, 3, 2, 2, 3, 1, 3, 1, 1, 2, 3, 0, 1, 0, 3, 3, 0, 1, 3,\n",
       "       1, 1, 1, 1, 3, 0, 1, 3, 3, 2, 2, 3, 2, 2, 3, 1, 1, 3, 2, 1, 3, 2,\n",
       "       2, 1, 0, 2, 0, 1, 0, 2, 1, 1, 3, 3, 0, 0, 2, 3, 0, 3, 0, 3, 3, 0,\n",
       "       2, 0, 0, 2, 0, 0, 2, 1, 0, 1, 3, 2, 0, 3, 2, 0, 0, 3, 1, 0, 0, 0,\n",
       "       1, 3, 1, 1, 1, 1, 3, 3, 3, 3, 1, 2, 1, 0, 3, 3, 3, 1, 3, 0, 0, 1,\n",
       "       1, 1, 0, 0, 2, 2, 0, 0, 3, 3, 0, 3, 2, 2, 1, 3, 3, 2, 0, 1, 2, 3,\n",
       "       0, 2, 0, 2, 1, 2, 0, 2, 2, 3, 1, 2, 0, 1, 1, 2, 2, 1, 3, 3, 1, 1,\n",
       "       1, 0, 0, 1, 0, 2, 0, 0, 3, 2, 2, 1, 0, 3, 1, 0, 3, 2, 1, 3, 0, 0,\n",
       "       0, 2, 1, 3, 1, 3, 3, 1, 3, 1, 0, 3, 2, 1, 2, 1, 2, 1, 2, 0, 0, 0,\n",
       "       0, 1, 1, 2, 0, 0, 2, 0, 0, 2, 2, 1, 3, 1, 1, 1, 1, 3, 1, 3, 0, 1,\n",
       "       3, 3, 3, 1, 0, 1, 2, 0, 3, 0, 0, 2, 0, 3, 3, 3, 1, 2, 2, 0, 3, 1,\n",
       "       2, 0, 3, 0, 3, 1, 3, 0, 2, 3, 2, 0, 3, 2, 1, 0, 3, 0, 3, 0, 3, 0,\n",
       "       0, 3, 3, 0, 0, 2, 1, 1, 1, 0, 1, 0, 3, 0, 0, 2, 3, 1, 2, 3, 0, 1,\n",
       "       3, 2, 2, 3, 1, 2, 2, 0, 0, 0, 0, 3, 3, 1, 2, 0, 2, 2, 3, 0, 3, 2,\n",
       "       2, 1, 2, 2, 0, 0, 0, 2, 2, 1, 0, 0, 1, 3, 1, 2, 0, 3, 2, 0, 3, 0,\n",
       "       2, 2, 3, 2, 0, 3, 1, 2, 0, 1, 3, 1, 0, 1, 1, 0, 0, 1, 0, 3, 0, 2,\n",
       "       1, 3, 1, 0, 3, 3, 3, 1, 2, 0, 0, 1, 3, 2, 0, 3, 0, 2, 2, 0, 2, 2,\n",
       "       1, 1, 1, 1, 1, 3, 0, 1, 1, 3, 1, 1, 2, 2, 0, 1, 3, 2, 2, 0, 2, 1,\n",
       "       1, 2, 1, 0, 2, 1, 1, 3, 2, 0, 2, 3, 0, 1, 3, 0, 3, 2, 0, 1, 3, 1,\n",
       "       0, 2, 2, 0, 2, 3, 0, 1, 0, 2, 2, 3, 3, 1, 3, 0, 3, 0, 2, 2, 0, 0,\n",
       "       3, 0, 2, 2, 0, 2, 1, 1, 0, 2, 3, 0, 2, 2, 2, 1, 0, 2, 1, 1, 3, 2,\n",
       "       2, 1, 2, 0, 1, 2, 1, 1, 3, 0, 2, 2, 3, 0, 3, 2, 1, 3, 0, 0, 0, 2,\n",
       "       0, 3, 0, 1, 3, 2, 0, 3, 0, 0, 2, 0, 2, 0, 3, 2, 2, 2, 1, 3, 3, 1,\n",
       "       3, 1, 2, 1, 0, 1, 2, 1, 2, 2, 1, 0, 3, 3, 2, 1, 1, 3, 0, 2, 2, 3,\n",
       "       2, 2, 2, 0, 1, 0, 3, 2, 1, 2, 3, 1, 0, 2, 1, 1, 1, 2, 0, 3, 1, 3,\n",
       "       3, 1, 1, 3, 3, 2, 3, 1, 2, 2, 0, 3, 2, 3, 3, 1, 2, 2, 2, 2, 3, 1,\n",
       "       0, 0, 3, 1, 0, 1, 0, 2, 1, 0, 3, 2, 0, 3, 2, 1, 0, 1, 2, 0, 1, 1,\n",
       "       3, 2, 0, 2, 2, 0, 3, 3, 0, 0, 2, 1, 3, 0, 2, 0, 1, 3, 3, 3, 2, 2,\n",
       "       1, 1, 1, 1, 3, 3, 2, 2, 0, 1, 0, 3, 1, 2, 0, 3, 1, 1, 0, 0, 3, 3,\n",
       "       0, 0, 1, 3, 0, 3, 0, 1, 0, 3, 3, 1, 2, 0, 3, 3, 1, 1, 0, 3, 1, 1,\n",
       "       3, 2, 2, 0, 2, 2, 2, 2, 2, 2, 1, 1, 2, 3, 2, 0, 2, 3, 3, 2, 2, 3,\n",
       "       3, 1, 3, 3, 0, 0, 1, 0, 2, 3, 0, 0, 2, 0, 3, 3, 1, 0, 3, 3, 1, 2,\n",
       "       0, 3, 1, 1, 1, 1, 3, 2, 2, 1, 0, 2, 1, 2, 2, 3, 3, 2, 2, 2, 3, 1,\n",
       "       0, 3, 2, 2, 0, 1, 1, 1, 2, 0, 0, 1, 0, 3, 2, 2, 0, 0, 1, 2, 0, 0,\n",
       "       0, 3, 2, 1, 0, 1, 0, 3, 2, 3, 0, 2, 0, 3, 3, 2, 2, 0, 3, 3, 3, 3,\n",
       "       1, 0, 3, 2, 3, 3, 3, 3, 2, 0, 1, 3, 3, 1, 3, 0, 1, 2, 2, 0, 2, 1,\n",
       "       3, 1, 3, 1, 1, 1, 1, 0, 1, 0, 1, 3, 0, 2, 0, 0, 3, 2, 0, 0, 3, 3,\n",
       "       3, 0, 0, 2, 0, 2, 3, 0, 1, 0])"
      ]
     },
     "execution_count": 27,
     "metadata": {},
     "output_type": "execute_result"
    }
   ],
   "source": [
    "labels"
   ]
  },
  {
   "cell_type": "code",
   "execution_count": 28,
   "metadata": {},
   "outputs": [],
   "source": [
    "from sklearn.metrics import classification_report,confusion_matrix,accuracy_score,f1_score,plot_confusion_matrix"
   ]
  },
  {
   "cell_type": "code",
   "execution_count": null,
   "metadata": {},
   "outputs": [],
   "source": [
    "print(confusion_matrix(y_test, y_pred, labels=range(len(target_names))))"
   ]
  },
  {
   "cell_type": "code",
   "execution_count": 29,
   "metadata": {},
   "outputs": [
    {
     "name": "stdout",
     "output_type": "stream",
     "text": [
      "[[  0 250   0   0]\n",
      " [  0   0   0 250]\n",
      " [  0   0 250   0]\n",
      " [250   0   0   0]]\n"
     ]
    }
   ],
   "source": [
    "print(confusion_matrix(y,labels))"
   ]
  },
  {
   "cell_type": "code",
   "execution_count": 30,
   "metadata": {},
   "outputs": [
    {
     "name": "stdout",
     "output_type": "stream",
     "text": [
      "              precision    recall  f1-score   support\n",
      "\n",
      "           0       0.00      0.00      0.00       250\n",
      "           1       0.00      0.00      0.00       250\n",
      "           2       1.00      1.00      1.00       250\n",
      "           3       0.00      0.00      0.00       250\n",
      "\n",
      "    accuracy                           0.25      1000\n",
      "   macro avg       0.25      0.25      0.25      1000\n",
      "weighted avg       0.25      0.25      0.25      1000\n",
      "\n"
     ]
    }
   ],
   "source": [
    "print(classification_report(y,labels))"
   ]
  },
  {
   "cell_type": "code",
   "execution_count": null,
   "metadata": {},
   "outputs": [],
   "source": []
  }
 ],
 "metadata": {
  "kernelspec": {
   "display_name": "Python 3",
   "language": "python",
   "name": "python3"
  },
  "language_info": {
   "codemirror_mode": {
    "name": "ipython",
    "version": 3
   },
   "file_extension": ".py",
   "mimetype": "text/x-python",
   "name": "python",
   "nbconvert_exporter": "python",
   "pygments_lexer": "ipython3",
   "version": "3.8.3"
  }
 },
 "nbformat": 4,
 "nbformat_minor": 4
}
